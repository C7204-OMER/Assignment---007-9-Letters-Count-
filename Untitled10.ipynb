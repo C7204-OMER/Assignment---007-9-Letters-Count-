{
  "nbformat": 4,
  "nbformat_minor": 0,
  "metadata": {
    "colab": {
      "name": "Untitled10.ipynb",
      "provenance": [],
      "collapsed_sections": [],
      "authorship_tag": "ABX9TyNwwYQBvzvHEEOgtCP2vLrw",
      "include_colab_link": true
    },
    "kernelspec": {
      "name": "python3",
      "display_name": "Python 3"
    }
  },
  "cells": [
    {
      "cell_type": "markdown",
      "metadata": {
        "id": "view-in-github",
        "colab_type": "text"
      },
      "source": [
        "<a href=\"https://colab.research.google.com/github/C7204-OMER/Assignment---007-9-Letters-Count-/blob/main/Untitled10.ipynb\" target=\"_parent\"><img src=\"https://colab.research.google.com/assets/colab-badge.svg\" alt=\"Open In Colab\"/></a>"
      ]
    },
    {
      "cell_type": "code",
      "metadata": {
        "id": "Gvm2KCPYKSal"
      },
      "source": [
        "sentence = \"hippo runs to us!\"\r\n",
        "\r\n",
        "sentence_dict = {}\r\n",
        "\r\n",
        "for n in sentence:\r\n",
        "  keys = sentence_dict.keys()         ## Letters Count ##\r\n",
        "  if n in keys:\r\n",
        "    sentence_dict[n] += 1\r\n",
        "  else:\r\n",
        "    sentence_dict[n] = 1\r\n",
        "print(word_dict)"
      ],
      "execution_count": null,
      "outputs": []
    }
  ]
}